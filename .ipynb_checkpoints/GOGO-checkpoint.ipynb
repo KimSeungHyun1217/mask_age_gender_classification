{
 "cells": [
  {
   "cell_type": "markdown",
   "id": "c5eb88d8-6ee7-4958-b8ae-db6d5edcf085",
   "metadata": {},
   "source": [
    "이미지를 시각화하는게 필요해서 노트북으로 옮긴다. (220224 10:49)"
   ]
  },
  {
   "cell_type": "markdown",
   "id": "5ce985bf-6593-46bb-9548-9ecefe5f03a3",
   "metadata": {},
   "source": [
    "## Import"
   ]
  },
  {
   "cell_type": "code",
   "execution_count": 49,
   "id": "c99c502e-5ccd-4c43-ab28-d3047cf50edf",
   "metadata": {},
   "outputs": [],
   "source": [
    "import pandas as pd\n",
    "import numpy as np\n",
    "import matplotlib.pyplot as plt\n",
    "import torch\n",
    "import torch.nn\n",
    "import torch.optim as optim\n",
    "import torchvision\n",
    "import torchvision.models as models\n",
    "import albumentations\n",
    "import collections\n",
    "\n",
    "from torch.utils.data import Dataset, DataLoader\n",
    "from albumentations.pytorch.transforms import ToTensorV2\n",
    "from sklearn.model_selection import train_test_split\n",
    "from PIL import Image"
   ]
  },
  {
   "cell_type": "code",
   "execution_count": 11,
   "id": "509faa5b-052f-4f9e-8264-4be4ba8471a1",
   "metadata": {},
   "outputs": [
    {
     "data": {
      "text/plain": [
       "device(type='cuda', index=0)"
      ]
     },
     "execution_count": 11,
     "metadata": {},
     "output_type": "execute_result"
    }
   ],
   "source": [
    "device = torch.device('cuda:0' if torch.cuda.is_available() else 'cpu')\n",
    "device"
   ]
  },
  {
   "cell_type": "markdown",
   "id": "1844d386-9c24-4aa8-9d5f-fe435677c51b",
   "metadata": {},
   "source": [
    "## Dataset.py"
   ]
  },
  {
   "cell_type": "code",
   "execution_count": 17,
   "id": "33e06bd1-cca8-4bbb-88ce-e5da6b4f0359",
   "metadata": {},
   "outputs": [],
   "source": [
    "class MaskedFaceDataset(Dataset):\n",
    "    def __init__(self, csv_path, kind=None, transform=None, train=True):\n",
    "        self.kind = kind # mask, gender, age\n",
    "        self.csv_path = csv_path\n",
    "        self.transform = transform\n",
    "        self.train = train\n",
    "        self.df = pd.read_csv(self.csv_path)\n",
    "\n",
    "    def __getitem__(self, idx):\n",
    "        row = self.df.iloc[idx]\n",
    "\n",
    "        if self.train:\n",
    "            img = Image.open(row['path'])\n",
    "            label = row[self.kind]\n",
    "            if self.transform:\n",
    "                img = self.transform(image=np.array(img))['image']\n",
    "        else:\n",
    "            img = Image.open(row['ImageID'])\n",
    "            label = row['ans']\n",
    "        return img, label\n",
    "\n",
    "    def __len__(self):\n",
    "        return len(self.df)"
   ]
  },
  {
   "cell_type": "code",
   "execution_count": 23,
   "id": "c70afa86-791b-4098-95c7-0298db3a8ce4",
   "metadata": {},
   "outputs": [],
   "source": [
    "train_transform = albumentations.Compose([ToTensorV2()]);"
   ]
  },
  {
   "cell_type": "code",
   "execution_count": 51,
   "id": "9e887376-1cf6-4722-81e8-3a01440ae110",
   "metadata": {},
   "outputs": [],
   "source": [
    "train_csv_path = '../input/data/train/three_labels.csv'"
   ]
  },
  {
   "cell_type": "code",
   "execution_count": 25,
   "id": "2332a427-f174-47bf-8f61-b4e8f9b62fd8",
   "metadata": {},
   "outputs": [],
   "source": [
    "train_mask_data_set = MaskedFaceDataset(csv_path=train_csv_path, kind='mask', \n",
    "                                        transform=train_transform, train=True)"
   ]
  },
  {
   "cell_type": "code",
   "execution_count": 50,
   "id": "d8e6e925-7af5-4ba3-a64c-81335fef5644",
   "metadata": {},
   "outputs": [
    {
     "name": "stdout",
     "output_type": "stream",
     "text": [
      "Counter({0: 13502, 1: 2699, 2: 2699})\n"
     ]
    }
   ],
   "source": [
    "y_train_mask = [y for _, y in train_mask_data_set]\n",
    "counter_mask_train = collections.Counter(y_train_mask)\n",
    "print(counter_mask_train)"
   ]
  }
 ],
 "metadata": {
  "kernelspec": {
   "display_name": "Python 3 (ipykernel)",
   "language": "python",
   "name": "python3"
  },
  "language_info": {
   "codemirror_mode": {
    "name": "ipython",
    "version": 3
   },
   "file_extension": ".py",
   "mimetype": "text/x-python",
   "name": "python",
   "nbconvert_exporter": "python",
   "pygments_lexer": "ipython3",
   "version": "3.8.5"
  }
 },
 "nbformat": 4,
 "nbformat_minor": 5
}
