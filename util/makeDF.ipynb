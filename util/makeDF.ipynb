{
 "cells": [
  {
   "cell_type": "code",
   "execution_count": 8,
   "id": "ca21578a-0312-40ba-acaa-03997a6de1d1",
   "metadata": {},
   "outputs": [],
   "source": [
    "import pandas as pd\n",
    "import os\n",
    "from pathlib import Path\n",
    "pd.set_option('display.max_colwidth', 100)\n",
    "\n",
    "df = pd.DataFrame(None, columns = ['id', 'mask', 'gender', 'ageGroup', 'useMask', 'age', 'ageModTen', 'errorM', 'errorG', 'errorA', 'error', 'predM', 'predG', 'predA', 'pred', 'path'])\n",
    "train_df =  pd.read_csv('/opt/ml/input/data/train/train.csv')\n",
    "train_dir = '/opt/ml/input/data/train/images'\n",
    "out_path = '/opt/ml/input/data/train/new_train.csv'\n",
    "\n",
    "def age_group(x):\n",
    "    if x < 30:\n",
    "        return 0\n",
    "    elif x < 60:\n",
    "        return 1\n",
    "    else:\n",
    "        return 2\n",
    "\n",
    "for index, line in enumerate(train_df.iloc):\n",
    "    for file in list(os.listdir(os.path.join(train_dir, line['path']))):\n",
    "        if file[0] == '.':\n",
    "            continue\n",
    "        if file.split('.')[0] == 'normal':\n",
    "            mask = 2\n",
    "        elif file.split('.')[0] == 'incorrect_mask':\n",
    "            mask = 1\n",
    "        else:\n",
    "            mask = 0\n",
    "        gender = 0 if line['gender'] == 'male' else 1\n",
    "        age = line['age']\n",
    "        ageGroup = age_group(age)\n",
    "        useMask = 1 if mask != 2 else 0\n",
    "        ageModTen = age //10\n",
    "        \n",
    "        data = {\n",
    "            'id': line['id'],\n",
    "            'mask': mask,\n",
    "            'gender': gender,\n",
    "            'ageGroup': ageGroup,\n",
    "            'useMask': useMask,\n",
    "            'age': line['age'],\n",
    "            'ageModTen' : ageModTen,\n",
    "            'errorM': False,\n",
    "            'errorG': False,\n",
    "            'errorA': False,\n",
    "            'error': False,\n",
    "            'predM': -1,\n",
    "            'predG': -1,\n",
    "            'predA': -1,\n",
    "            'pred': -1,\n",
    "            'path': os.path.join(train_dir, line['path'], file),\n",
    "        }\n",
    "        df = df.append(data, ignore_index=True)\n",
    "\n",
    "df.to_csv(out_path)"
   ]
  },
  {
   "cell_type": "code",
   "execution_count": null,
   "id": "3272f892-8b6f-4f0b-aafc-f16456164a9f",
   "metadata": {},
   "outputs": [],
   "source": []
  }
 ],
 "metadata": {
  "kernelspec": {
   "display_name": "Python 3 (ipykernel)",
   "language": "python",
   "name": "python3"
  },
  "language_info": {
   "codemirror_mode": {
    "name": "ipython",
    "version": 3
   },
   "file_extension": ".py",
   "mimetype": "text/x-python",
   "name": "python",
   "nbconvert_exporter": "python",
   "pygments_lexer": "ipython3",
   "version": "3.8.5"
  }
 },
 "nbformat": 4,
 "nbformat_minor": 5
}
