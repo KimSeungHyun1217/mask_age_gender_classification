{
 "cells": [
  {
   "cell_type": "code",
   "execution_count": 1,
   "id": "ae993c7b-aeac-4bdd-a0b3-eb5f81f72a8f",
   "metadata": {},
   "outputs": [],
   "source": [
    "from enum import Enum"
   ]
  },
  {
   "cell_type": "code",
   "execution_count": 10,
   "id": "236c930f-72d7-416a-8355-8fea61b8eb25",
   "metadata": {},
   "outputs": [],
   "source": [
    "class KindNClasses(int, Enum):\n",
    "    MASK = 3\n",
    "    AGE = 3\n",
    "    GENDER = 2\n",
    "\n",
    "    @classmethod\n",
    "    def from_str(cls, value: str) -> int:\n",
    "        value = value.lower()\n",
    "        if value == \"mask\":\n",
    "            return cls.MASK\n",
    "        elif value == \"age\":\n",
    "            return cls.AGE\n",
    "        elif value == \"gender\":\n",
    "            return cls.GENDER\n",
    "        else:\n",
    "            raise ValueError(f\"Kind value should be in ['mask', 'age', 'gender']\")"
   ]
  },
  {
   "cell_type": "code",
   "execution_count": 13,
   "id": "bd46c100-dc26-4bf8-8a5c-6ed34dfa231a",
   "metadata": {},
   "outputs": [
    {
     "name": "stdout",
     "output_type": "stream",
     "text": [
      "['__class__', '__doc__', '__module__', 'as_integer_ratio', 'bit_length', 'conjugate', 'denominator', 'from_bytes', 'from_str', 'imag', 'name', 'numerator', 'real', 'to_bytes', 'value']\n"
     ]
    }
   ],
   "source": [
    "test = KindNClasses.from_str('mask')\n",
    "print(dir(test))"
   ]
  },
  {
   "cell_type": "code",
   "execution_count": null,
   "id": "d1de682d-f3be-4cd9-bbf8-9e07b7437693",
   "metadata": {},
   "outputs": [],
   "source": []
  }
 ],
 "metadata": {
  "kernelspec": {
   "display_name": "Python 3 (ipykernel)",
   "language": "python",
   "name": "python3"
  },
  "language_info": {
   "codemirror_mode": {
    "name": "ipython",
    "version": 3
   },
   "file_extension": ".py",
   "mimetype": "text/x-python",
   "name": "python",
   "nbconvert_exporter": "python",
   "pygments_lexer": "ipython3",
   "version": "3.8.5"
  }
 },
 "nbformat": 4,
 "nbformat_minor": 5
}
