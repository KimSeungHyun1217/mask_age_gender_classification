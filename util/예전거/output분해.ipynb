{
 "cells": [
  {
   "cell_type": "code",
   "execution_count": 1,
   "id": "7d8eae3b-856d-4e35-b093-9a26e8dab9d4",
   "metadata": {},
   "outputs": [],
   "source": [
    "import pandas as pd"
   ]
  },
  {
   "cell_type": "code",
   "execution_count": 2,
   "id": "c0204a93-6c7d-4903-a922-dd6e4fe238d9",
   "metadata": {},
   "outputs": [],
   "source": [
    "ori_path = '/opt/ml/code/output/output.csv'"
   ]
  },
  {
   "cell_type": "code",
   "execution_count": 13,
   "id": "35c398f2-c057-4e62-84fd-b77d975387c8",
   "metadata": {},
   "outputs": [
    {
     "data": {
      "text/html": [
       "<div>\n",
       "<style scoped>\n",
       "    .dataframe tbody tr th:only-of-type {\n",
       "        vertical-align: middle;\n",
       "    }\n",
       "\n",
       "    .dataframe tbody tr th {\n",
       "        vertical-align: top;\n",
       "    }\n",
       "\n",
       "    .dataframe thead th {\n",
       "        text-align: right;\n",
       "    }\n",
       "</style>\n",
       "<table border=\"1\" class=\"dataframe\">\n",
       "  <thead>\n",
       "    <tr style=\"text-align: right;\">\n",
       "      <th></th>\n",
       "      <th>Unnamed: 0</th>\n",
       "      <th>ImageID</th>\n",
       "      <th>ans</th>\n",
       "    </tr>\n",
       "  </thead>\n",
       "  <tbody>\n",
       "    <tr>\n",
       "      <th>0</th>\n",
       "      <td>0</td>\n",
       "      <td>cbc5c6e168e63498590db46022617123f1fe1268.jpg</td>\n",
       "      <td>13</td>\n",
       "    </tr>\n",
       "    <tr>\n",
       "      <th>1</th>\n",
       "      <td>1</td>\n",
       "      <td>0e72482bf56b3581c081f7da2a6180b8792c7089.jpg</td>\n",
       "      <td>1</td>\n",
       "    </tr>\n",
       "    <tr>\n",
       "      <th>2</th>\n",
       "      <td>2</td>\n",
       "      <td>b549040c49190cedc41327748aeb197c1670f14d.jpg</td>\n",
       "      <td>13</td>\n",
       "    </tr>\n",
       "    <tr>\n",
       "      <th>3</th>\n",
       "      <td>3</td>\n",
       "      <td>4f9cb2a045c6d5b9e50ad3459ea7b791eb6e18bc.jpg</td>\n",
       "      <td>13</td>\n",
       "    </tr>\n",
       "    <tr>\n",
       "      <th>4</th>\n",
       "      <td>4</td>\n",
       "      <td>248428d9a4a5b6229a7081c32851b90cb8d38d0c.jpg</td>\n",
       "      <td>12</td>\n",
       "    </tr>\n",
       "    <tr>\n",
       "      <th>...</th>\n",
       "      <td>...</td>\n",
       "      <td>...</td>\n",
       "      <td>...</td>\n",
       "    </tr>\n",
       "    <tr>\n",
       "      <th>12595</th>\n",
       "      <td>12595</td>\n",
       "      <td>d71d4570505d6af8f777690e63edfa8d85ea4476.jpg</td>\n",
       "      <td>2</td>\n",
       "    </tr>\n",
       "    <tr>\n",
       "      <th>12596</th>\n",
       "      <td>12596</td>\n",
       "      <td>6cf1300e8e218716728d5820c0bab553306c2cfd.jpg</td>\n",
       "      <td>4</td>\n",
       "    </tr>\n",
       "    <tr>\n",
       "      <th>12597</th>\n",
       "      <td>12597</td>\n",
       "      <td>8140edbba31c3a824e817e6d5fb95343199e2387.jpg</td>\n",
       "      <td>9</td>\n",
       "    </tr>\n",
       "    <tr>\n",
       "      <th>12598</th>\n",
       "      <td>12598</td>\n",
       "      <td>030d439efe6fb5a7bafda45a393fc19f2bf57f54.jpg</td>\n",
       "      <td>1</td>\n",
       "    </tr>\n",
       "    <tr>\n",
       "      <th>12599</th>\n",
       "      <td>12599</td>\n",
       "      <td>f1e0b9594ae9f72571f0a9dc67406ad41f2edab0.jpg</td>\n",
       "      <td>7</td>\n",
       "    </tr>\n",
       "  </tbody>\n",
       "</table>\n",
       "<p>12600 rows × 3 columns</p>\n",
       "</div>"
      ],
      "text/plain": [
       "       Unnamed: 0                                       ImageID  ans\n",
       "0               0  cbc5c6e168e63498590db46022617123f1fe1268.jpg   13\n",
       "1               1  0e72482bf56b3581c081f7da2a6180b8792c7089.jpg    1\n",
       "2               2  b549040c49190cedc41327748aeb197c1670f14d.jpg   13\n",
       "3               3  4f9cb2a045c6d5b9e50ad3459ea7b791eb6e18bc.jpg   13\n",
       "4               4  248428d9a4a5b6229a7081c32851b90cb8d38d0c.jpg   12\n",
       "...           ...                                           ...  ...\n",
       "12595       12595  d71d4570505d6af8f777690e63edfa8d85ea4476.jpg    2\n",
       "12596       12596  6cf1300e8e218716728d5820c0bab553306c2cfd.jpg    4\n",
       "12597       12597  8140edbba31c3a824e817e6d5fb95343199e2387.jpg    9\n",
       "12598       12598  030d439efe6fb5a7bafda45a393fc19f2bf57f54.jpg    1\n",
       "12599       12599  f1e0b9594ae9f72571f0a9dc67406ad41f2edab0.jpg    7\n",
       "\n",
       "[12600 rows x 3 columns]"
      ]
     },
     "execution_count": 13,
     "metadata": {},
     "output_type": "execute_result"
    }
   ],
   "source": [
    "df = pd.read_csv(ori_path)\n",
    "df"
   ]
  },
  {
   "cell_type": "code",
   "execution_count": 14,
   "id": "b1b4d3ea-611c-469f-b692-1889ac47227d",
   "metadata": {},
   "outputs": [],
   "source": [
    "new_df = pd.DataFrame(None, columns = ['ImageID', 'mask', 'gender', 'age'])"
   ]
  },
  {
   "cell_type": "code",
   "execution_count": 15,
   "id": "d15bd969-bd5a-4362-82e6-5f8fb3c31057",
   "metadata": {},
   "outputs": [],
   "source": [
    "for i in range(len(df)):\n",
    "    img_id = df.iloc[i]['ImageID']\n",
    "    mask = (df.iloc[i]['ans'] // 6)\n",
    "    gender = (df.iloc[i]['ans'] // 3 ) % 2\n",
    "    age = df.iloc[i]['ans'] % 3\n",
    "    data = {\n",
    "            'ImageID': img_id,\n",
    "            'mask': mask,\n",
    "            'gender': gender,\n",
    "            'age': age\n",
    "        }\n",
    "    new_df = new_df.append(data, ignore_index=True)\n"
   ]
  },
  {
   "cell_type": "code",
   "execution_count": 16,
   "id": "36fa5e55-c913-4a4d-a91e-fbd8d8597e81",
   "metadata": {},
   "outputs": [
    {
     "data": {
      "text/plain": [
       "2"
      ]
     },
     "execution_count": 16,
     "metadata": {},
     "output_type": "execute_result"
    }
   ],
   "source": [
    "new_df['age'].max()"
   ]
  },
  {
   "cell_type": "code",
   "execution_count": 17,
   "id": "fc06d504-bd21-4c47-a197-a45137cb3040",
   "metadata": {},
   "outputs": [],
   "source": [
    "new_df.to_csv('/opt/ml/input/data/eval/output_maskgenderage.csv')"
   ]
  },
  {
   "cell_type": "code",
   "execution_count": null,
   "id": "abda90c4-f589-446d-914f-8b2033607027",
   "metadata": {},
   "outputs": [],
   "source": []
  }
 ],
 "metadata": {
  "kernelspec": {
   "display_name": "Python 3 (ipykernel)",
   "language": "python",
   "name": "python3"
  },
  "language_info": {
   "codemirror_mode": {
    "name": "ipython",
    "version": 3
   },
   "file_extension": ".py",
   "mimetype": "text/x-python",
   "name": "python",
   "nbconvert_exporter": "python",
   "pygments_lexer": "ipython3",
   "version": "3.8.5"
  }
 },
 "nbformat": 4,
 "nbformat_minor": 5
}
