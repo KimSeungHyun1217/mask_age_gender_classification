{
 "cells": [
  {
   "cell_type": "code",
   "execution_count": 1,
   "id": "d07b748e-819a-40e5-9bcd-3ef4949520c3",
   "metadata": {},
   "outputs": [],
   "source": [
    "import pandas as pd"
   ]
  },
  {
   "cell_type": "code",
   "execution_count": 26,
   "id": "ac756db4-a370-4629-b426-f4d47cd6c93d",
   "metadata": {},
   "outputs": [],
   "source": [
    "result_path = '/opt/ml/code/output/B2_FC_'\n",
    "out_path = '/opt/ml/code/output/B2_FC_FULL.csv'"
   ]
  },
  {
   "cell_type": "code",
   "execution_count": 20,
   "id": "a4afc548-9920-4a1f-a9df-c0996f2c1272",
   "metadata": {},
   "outputs": [],
   "source": [
    "mask_csv = pd.read_csv(result_path + 'MASK.csv')\n",
    "gender_csv = pd.read_csv(result_path + 'GENDER.csv')\n",
    "age_csv = pd.read_csv(result_path + 'AGE.csv')"
   ]
  },
  {
   "cell_type": "code",
   "execution_count": 23,
   "id": "2dffeaee-1528-496e-9ed7-168cbac3971b",
   "metadata": {},
   "outputs": [],
   "source": [
    "df = pd.DataFrame(None, columns = ['ImageID', 'ans'])"
   ]
  },
  {
   "cell_type": "code",
   "execution_count": 24,
   "id": "82d1aa7a-afc8-40ff-b7c3-69ab738a93a0",
   "metadata": {},
   "outputs": [],
   "source": [
    "for i in range(len(mask_csv)):\n",
    "    img_id = mask_csv.iloc[i]['ImageID']\n",
    "    mask = mask_csv.iloc[i]['ans'] * 6\n",
    "    gender = gender_csv.iloc[i]['ans'] * 3\n",
    "    age = age_csv.iloc[i]['ans']\n",
    "    ans = mask + gender + age\n",
    "    data = {\n",
    "            'ImageID': img_id,\n",
    "            'ans': ans\n",
    "        }\n",
    "    df = df.append(data, ignore_index=True)\n",
    "\n"
   ]
  },
  {
   "cell_type": "code",
   "execution_count": 28,
   "id": "b67aefc0-ed0c-4c58-80b4-68b2c53a29fa",
   "metadata": {},
   "outputs": [
    {
     "data": {
      "text/plain": [
       "Index(['ImageID', 'ans'], dtype='object')"
      ]
     },
     "execution_count": 28,
     "metadata": {},
     "output_type": "execute_result"
    }
   ],
   "source": [
    "df.columns"
   ]
  },
  {
   "cell_type": "code",
   "execution_count": 30,
   "id": "b1f02766-a883-4f5c-9772-5f33d79af4f1",
   "metadata": {},
   "outputs": [],
   "source": [
    "df.to_csv(out_path, index=False)"
   ]
  },
  {
   "cell_type": "code",
   "execution_count": null,
   "id": "93f05567-7720-430c-8286-921b94f07ded",
   "metadata": {},
   "outputs": [],
   "source": []
  }
 ],
 "metadata": {
  "kernelspec": {
   "display_name": "Python 3 (ipykernel)",
   "language": "python",
   "name": "python3"
  },
  "language_info": {
   "codemirror_mode": {
    "name": "ipython",
    "version": 3
   },
   "file_extension": ".py",
   "mimetype": "text/x-python",
   "name": "python",
   "nbconvert_exporter": "python",
   "pygments_lexer": "ipython3",
   "version": "3.8.5"
  }
 },
 "nbformat": 4,
 "nbformat_minor": 5
}
