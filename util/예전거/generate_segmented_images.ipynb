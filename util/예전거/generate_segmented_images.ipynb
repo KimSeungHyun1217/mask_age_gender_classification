{
 "cells": [
  {
   "cell_type": "code",
   "execution_count": 36,
   "id": "e94ddc3a",
   "metadata": {},
   "outputs": [],
   "source": [
    "import pandas as pd\n",
    "from PIL import Image\n",
    "import matplotlib.pyplot as plt\n",
    "import numpy as np\n",
    "import os\n",
    "import albumentations as A\n",
    "import torch\n",
    "import torch.nn as nn\n",
    "from torchvision.models.segmentation import fcn_resnet50\n",
    "from albumentations.pytorch import ToTensorV2\n",
    "from pathlib import Path\n"
   ]
  },
  {
   "cell_type": "markdown",
   "id": "61418a41",
   "metadata": {},
   "source": [
    "> ## 사용법\n",
    "\n",
    "1. `./data`로 current working directory 변경\n",
    "2. train 데이터 바꾸고 싶으면 `train_dir = True`, eval 데이터 바꾸고 싶으면 `train_dir = False`\n",
    "2. 코드 실행\n",
    "3. `./data/train/images_segmented/...`에 segmented 이미지들 원래랑 똑같은 구조로 저장됨"
   ]
  },
  {
   "cell_type": "code",
   "execution_count": 37,
   "id": "f9039463",
   "metadata": {},
   "outputs": [],
   "source": [
    "train_dir = True\n",
    "target_dir = 'train' if train_dir else 'eval'"
   ]
  },
  {
   "cell_type": "code",
   "execution_count": 48,
   "id": "d6920316",
   "metadata": {},
   "outputs": [],
   "source": [
    "segmented_img_dir_path = '/opt/ml/input/data/{}/images_segmented'.format(target_dir)\n",
    "orig_img_dir_path = '/opt/ml/input/data/{}/images'.format(target_dir)\n",
    "\n",
    "if not os.path.isdir(segmented_img_dir_path):\n",
    "    os.mkdir(segmented_img_dir_path)"
   ]
  },
  {
   "cell_type": "code",
   "execution_count": 49,
   "id": "ebe18c36-0158-45e1-af0f-d114e3aba7ad",
   "metadata": {},
   "outputs": [
    {
     "name": "stdout",
     "output_type": "stream",
     "text": [
      "cuda:0\n"
     ]
    }
   ],
   "source": [
    "device = torch.device('cuda:0' if torch.cuda.is_available() else 'cpu')\n",
    "print(device)"
   ]
  },
  {
   "cell_type": "code",
   "execution_count": 50,
   "id": "af45d553",
   "metadata": {},
   "outputs": [],
   "source": [
    "model = fcn_resnet50(pretrained=True, progress=False).to(device)\n",
    "model = model.eval()"
   ]
  },
  {
   "cell_type": "code",
   "execution_count": 63,
   "id": "c49a5f4a",
   "metadata": {},
   "outputs": [],
   "source": [
    "def segment_img(img):\n",
    "    device = torch.device('cuda' if torch.cuda.is_available() else 'cpu')\n",
    "    transform = A.Compose([\n",
    "    ToTensorV2(),\n",
    "    ])\n",
    "    \n",
    "    original_img = img\n",
    "\n",
    "    img = transform(image=np.array(img))['image']\n",
    "    img_batch = img.unsqueeze(0).to(device).float()\n",
    "\n",
    "    output = model(img_batch)['out']\n",
    "    normalized_masks = torch.nn.functional.softmax(output, dim=1)\n",
    "\n",
    "    person_mask = normalized_masks[0,15]\n",
    "    masked_img = person_mask.detach().cpu().numpy()\n",
    "    \n",
    "    boundary = 5\n",
    "    xmax = masked_img.shape[0]\n",
    "    ymax = masked_img.shape[1]\n",
    "    \n",
    "    masked_img = masked_img > 0.9\n",
    "    temp_masked_img = masked_img.copy()\n",
    "\n",
    "    for i in range(ymax):\n",
    "        for j in range(xmax):\n",
    "            if temp_masked_img[j,i] == True:\n",
    "                x_left, x_right = max(0,j-boundary), min(xmax-1, j+boundary)\n",
    "                y_down, y_up = max(0,i-boundary), min(ymax-1, i+boundary)\n",
    "                masked_img[y_down:y_up, x_left:x_right] = 1\n",
    "\n",
    "    masked_img = np.expand_dims(masked_img, axis = 2)\n",
    "    masked_img = np.concatenate((masked_img, masked_img, masked_img), axis=2)\n",
    "    \n",
    "    return original_img * masked_img"
   ]
  },
  {
   "cell_type": "code",
   "execution_count": 64,
   "id": "7d0faa9b",
   "metadata": {},
   "outputs": [],
   "source": [
    "def train_segment():\n",
    "    count = 0\n",
    "    print('start')\n",
    "    for person_dir in os.listdir(orig_img_dir_path):\n",
    "        if person_dir.startswith('.'):\n",
    "            continue\n",
    "        for fname in os.listdir(Path(orig_img_dir_path) / person_dir):\n",
    "            if fname.startswith('.'):\n",
    "                continue\n",
    "            img_full_path = Path(orig_img_dir_path) / person_dir / fname\n",
    "            img = Image.open(img_full_path)\n",
    "            segmented_img = Image.fromarray(segment_img(img))\n",
    "\n",
    "            new_dir = Path(segmented_img_dir_path) / person_dir\n",
    "            if not os.path.isdir(new_dir):\n",
    "                os.makedirs(new_dir)\n",
    "            new_path = new_dir  / fname\n",
    "            segmented_img.save(new_path)\n",
    "        if(count % 100 == 0):\n",
    "            print(count)\n",
    "        break\n",
    "        count += 1\n",
    "    print('finish')\n",
    "\n",
    "def eval_segment():\n",
    "            \n",
    "    for fname in os.listdir(Path(orig_img_dir_path)):\n",
    "        if fname.startswith('.'):\n",
    "            continue\n",
    "            \n",
    "        img_full_path = Path(orig_img_dir_path) / fname\n",
    "        img = Image.open(img_full_path)\n",
    "        segmented_img = Image.fromarray(segment_img(img))\n",
    "        \n",
    "        new_dir = Path(segmented_img_dir_path)\n",
    "        if not os.path.isdir(new_dir):\n",
    "            os.makedirs(new_dir)\n",
    "        \n",
    "        new_path = new_dir / fname\n",
    "        segmented_img.save(new_path)\n"
   ]
  },
  {
   "cell_type": "code",
   "execution_count": 65,
   "id": "c8904733",
   "metadata": {},
   "outputs": [
    {
     "name": "stdout",
     "output_type": "stream",
     "text": [
      "start\n",
      "0\n",
      "finish\n"
     ]
    }
   ],
   "source": [
    "if train_dir:\n",
    "    train_segment()\n",
    "else:\n",
    "    eval_segment()"
   ]
  },
  {
   "cell_type": "code",
   "execution_count": 94,
   "id": "e235405f",
   "metadata": {},
   "outputs": [
    {
     "data": {
      "text/plain": [
       "<module 'torch.cuda.memory' from '/opt/conda/lib/python3.8/site-packages/torch/cuda/memory.py'>"
      ]
     },
     "execution_count": 94,
     "metadata": {},
     "output_type": "execute_result"
    }
   ],
   "source": [
    "torch.cuda.memory"
   ]
  },
  {
   "cell_type": "code",
   "execution_count": null,
   "id": "3960f669",
   "metadata": {},
   "outputs": [],
   "source": []
  }
 ],
 "metadata": {
  "kernelspec": {
   "display_name": "Python 3 (ipykernel)",
   "language": "python",
   "name": "python3"
  },
  "language_info": {
   "codemirror_mode": {
    "name": "ipython",
    "version": 3
   },
   "file_extension": ".py",
   "mimetype": "text/x-python",
   "name": "python",
   "nbconvert_exporter": "python",
   "pygments_lexer": "ipython3",
   "version": "3.8.5"
  }
 },
 "nbformat": 4,
 "nbformat_minor": 5
}
