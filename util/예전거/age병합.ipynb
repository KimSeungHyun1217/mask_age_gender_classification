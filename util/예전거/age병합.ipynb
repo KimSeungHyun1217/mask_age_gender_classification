{
 "cells": [
  {
   "cell_type": "code",
   "execution_count": 29,
   "id": "d07b748e-819a-40e5-9bcd-3ef4949520c3",
   "metadata": {},
   "outputs": [],
   "source": [
    "import pandas as pd"
   ]
  },
  {
   "cell_type": "code",
   "execution_count": 45,
   "id": "ac756db4-a370-4629-b426-f4d47cd6c93d",
   "metadata": {},
   "outputs": [],
   "source": [
    "ori_path = '/opt/ml/code/output/7161.csv'\n",
    "age_path = '/opt/ml/code/output/RES18_AGE_COMBI4_v2.csv'\n",
    "out_path = '/opt/ml/code/output/RES18_AGE_COMBI4_from(7161)_v2.csv'"
   ]
  },
  {
   "cell_type": "code",
   "execution_count": 46,
   "id": "a4afc548-9920-4a1f-a9df-c0996f2c1272",
   "metadata": {},
   "outputs": [],
   "source": [
    "ori_csv = pd.read_csv(ori_path)\n",
    "age_csv = pd.read_csv(age_path)"
   ]
  },
  {
   "cell_type": "code",
   "execution_count": 47,
   "id": "2dffeaee-1528-496e-9ed7-168cbac3971b",
   "metadata": {},
   "outputs": [],
   "source": [
    "df = pd.DataFrame(None, columns = ['ImageID', 'ans'])"
   ]
  },
  {
   "cell_type": "code",
   "execution_count": 48,
   "id": "82d1aa7a-afc8-40ff-b7c3-69ab738a93a0",
   "metadata": {},
   "outputs": [],
   "source": [
    "for i in range(len(ori_csv)):\n",
    "    img_id = ori_csv.iloc[i]['ImageID']\n",
    "    mask = (ori_csv.iloc[i]['ans'] // 6)\n",
    "    gender = (ori_csv.iloc[i]['ans'] // 3 ) % 2\n",
    "    age = age_csv.iloc[i]['ans']\n",
    "    ans = mask * 6 + gender * 3 + age\n",
    "    \n",
    "    if(ans > 18):\n",
    "        print(ans)\n",
    "    data = {\n",
    "            'ImageID': img_id,\n",
    "            'ans': ans\n",
    "        }\n",
    "    df = df.append(data, ignore_index=True)\n",
    "\n"
   ]
  },
  {
   "cell_type": "code",
   "execution_count": 49,
   "id": "b67aefc0-ed0c-4c58-80b4-68b2c53a29fa",
   "metadata": {},
   "outputs": [
    {
     "data": {
      "text/plain": [
       "Index(['ImageID', 'ans'], dtype='object')"
      ]
     },
     "execution_count": 49,
     "metadata": {},
     "output_type": "execute_result"
    }
   ],
   "source": [
    "df.columns"
   ]
  },
  {
   "cell_type": "code",
   "execution_count": 50,
   "id": "b1f02766-a883-4f5c-9772-5f33d79af4f1",
   "metadata": {},
   "outputs": [],
   "source": [
    "df.to_csv(out_path, index=False)"
   ]
  },
  {
   "cell_type": "code",
   "execution_count": null,
   "id": "93f05567-7720-430c-8286-921b94f07ded",
   "metadata": {},
   "outputs": [],
   "source": []
  }
 ],
 "metadata": {
  "kernelspec": {
   "display_name": "Python 3 (ipykernel)",
   "language": "python",
   "name": "python3"
  },
  "language_info": {
   "codemirror_mode": {
    "name": "ipython",
    "version": 3
   },
   "file_extension": ".py",
   "mimetype": "text/x-python",
   "name": "python",
   "nbconvert_exporter": "python",
   "pygments_lexer": "ipython3",
   "version": "3.8.5"
  }
 },
 "nbformat": 4,
 "nbformat_minor": 5
}
