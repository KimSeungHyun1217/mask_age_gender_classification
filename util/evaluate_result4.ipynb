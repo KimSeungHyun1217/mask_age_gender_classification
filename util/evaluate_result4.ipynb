{
 "cells": [
  {
   "cell_type": "code",
   "execution_count": 2,
   "id": "fc800202",
   "metadata": {},
   "outputs": [],
   "source": [
    "import pandas as pd\n",
    "import numpy as np\n",
    "from pathlib import Path\n",
    "from PIL import Image\n",
    "import matplotlib.pyplot as plt"
   ]
  },
  {
   "cell_type": "code",
   "execution_count": 41,
   "id": "e20afbd3",
   "metadata": {},
   "outputs": [],
   "source": [
    "df = pd.read_csv('../output/R18_AGE.csv')\n",
    "df_FC = pd.read_csv('../output/R18_FC_AGE.csv')\n",
    "df_SC = pd.read_csv('../output/R18_SC_AGE.csv')\n",
    "df_SCD = pd.read_csv('../output/R18_SCD_AGE.csv')"
   ]
  },
  {
   "cell_type": "code",
   "execution_count": 42,
   "id": "da538019",
   "metadata": {},
   "outputs": [],
   "source": [
    "label = 0\n",
    "label_trsfm = {}\n",
    "\n",
    "for m in range(3):\n",
    "    for g in range(2):\n",
    "        for a in range(3):\n",
    "            label_trsfm[label] = ':'.join([str(m),str(g),str(a)])\n",
    "            label += 1\n",
    "            \n",
    "# mask 0 1 2\n",
    "# gender 0 1\n",
    "# age 0 1 2\n",
    "true_label = {\n",
    "    'mask': ['Wear', 'Incorrect', 'Not Wear'],\n",
    "    'gender': ['male', 'female'],\n",
    "    'age': ['<30', '>=30 and <60', '>=60']\n",
    "}\n",
    "\n",
    "def get_age(idx):\n",
    "    ori = df.iloc[idx]['ans']\n",
    "    fc = df_FC.iloc[idx]['ans']\n",
    "    sc = df_SC.iloc[idx]['ans']\n",
    "    scd = df_SCD.iloc[idx]['ans']\n",
    "#     label = label_trsfm[label].split(':')\n",
    "#     label = list(map(int, label))\n",
    "#     mask = true_label['mask'][label[0]]\n",
    "#     gender = true_label['gender'][label[1]]\n",
    "#     age = true_label['age'][label[2]]\n",
    "    hap = max(ori, fc, sc, scd)\n",
    "    if (hap >= 6):\n",
    "        return 2\n",
    "    elif (hap >= 3):\n",
    "        return 1\n",
    "    else:\n",
    "        return 0\n",
    "#     res = f\"ori -> {ori}\\nfc -> {fc}\\nsc -> {sc}\\nscd -> {scd}\"\n",
    "#     return res"
   ]
  },
  {
   "cell_type": "code",
   "execution_count": 39,
   "id": "5b370f4f",
   "metadata": {},
   "outputs": [],
   "source": [
    "# IMG_DIR = Path('../../input/data/eval/images_resize')\n",
    "out_path = '/opt/ml/code/output/RES18_AGE_COMBI4.csv'"
   ]
  },
  {
   "cell_type": "code",
   "execution_count": 30,
   "id": "75eacd06",
   "metadata": {},
   "outputs": [],
   "source": [
    "# NUM_SHOW = 4\n",
    "# TOTAL = NUM_SHOW * NUM_SHOW\n",
    "\n",
    "# plt.figure(figsize=(20,25))\n",
    "\n",
    "# start_idx = np.random.randint(0,len(df_normal) - TOTAL)\n",
    "# cnt = 1\n",
    "# for idx in range(start_idx, start_idx + TOTAL):\n",
    "#     img = Image.open(IMG_DIR / df.loc[idx, 'ImageID'])\n",
    "#     plt.subplot(NUM_SHOW, NUM_SHOW, cnt)\n",
    "#     plt.imshow(img)\n",
    "# #     plt.title(get_label_verbosity(df.loc[idx, 'ans']))\n",
    "#     plt.title(get_age(idx))\n",
    "#     plt.axis('off')\n",
    "#     cnt += 1\n",
    "    \n",
    "# plt.plot()"
   ]
  },
  {
   "cell_type": "code",
   "execution_count": 36,
   "id": "f9474a31",
   "metadata": {},
   "outputs": [],
   "source": [
    "df_out = pd.DataFrame(None, columns = ['ImageID', 'ans'])"
   ]
  },
  {
   "cell_type": "code",
   "execution_count": null,
   "id": "e32ffec6-f72d-4a29-9959-a617e06daeb8",
   "metadata": {},
   "outputs": [],
   "source": [
    "for i in range(len(df)):\n",
    "    img_id = df.iloc[i]['ImageID']\n",
    "    ans = get_age(i)\n",
    "    data = {\n",
    "            'ImageID': img_id,\n",
    "            'ans': ans\n",
    "        }\n",
    "    df_out = df_out.append(data, ignore_index=True)\n"
   ]
  },
  {
   "cell_type": "code",
   "execution_count": null,
   "id": "a04400a6-317d-4b3f-85d0-a524e18d36c1",
   "metadata": {},
   "outputs": [],
   "source": [
    "df_out.to_csv(out_path, index=False)"
   ]
  },
  {
   "cell_type": "code",
   "execution_count": null,
   "id": "a04127cf-10ad-4887-b935-7c65d02ab69a",
   "metadata": {},
   "outputs": [],
   "source": []
  }
 ],
 "metadata": {
  "kernelspec": {
   "display_name": "Python 3 (ipykernel)",
   "language": "python",
   "name": "python3"
  },
  "language_info": {
   "codemirror_mode": {
    "name": "ipython",
    "version": 3
   },
   "file_extension": ".py",
   "mimetype": "text/x-python",
   "name": "python",
   "nbconvert_exporter": "python",
   "pygments_lexer": "ipython3",
   "version": "3.8.5"
  }
 },
 "nbformat": 4,
 "nbformat_minor": 5
}
