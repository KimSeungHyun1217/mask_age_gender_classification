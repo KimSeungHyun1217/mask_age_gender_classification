{
 "cells": [
  {
   "cell_type": "code",
   "execution_count": 1,
   "id": "bec0a6a0",
   "metadata": {},
   "outputs": [],
   "source": [
    "import matplotlib.pyplot as plt\n",
    "import pandas as pd\n",
    "import numpy as np\n",
    "import seaborn as sns\n",
    "import os"
   ]
  },
  {
   "cell_type": "markdown",
   "id": "f1762a99",
   "metadata": {},
   "source": [
    "> ## Numerical Categories "
   ]
  },
  {
   "cell_type": "markdown",
   "id": "b0921424",
   "metadata": {},
   "source": [
    "## Mask\n",
    "* `0`: Wear\n",
    "* `1`: Incorrect\n",
    "* `2`: Not Wear"
   ]
  },
  {
   "cell_type": "markdown",
   "id": "26afd91d",
   "metadata": {},
   "source": [
    "## Gender\n",
    "\n",
    "* `0`: male\n",
    "* `1`: female"
   ]
  },
  {
   "cell_type": "markdown",
   "id": "6253dbf2",
   "metadata": {},
   "source": [
    "## Age\n",
    "\n",
    "* `<30`: 0\n",
    "* `>=30 and <60`: 1\n",
    "* `>=60`: 2"
   ]
  },
  {
   "cell_type": "markdown",
   "id": "1b5f6b3c",
   "metadata": {},
   "source": [
    "> ## Data Directory Path"
   ]
  },
  {
   "cell_type": "code",
   "execution_count": 9,
   "id": "bedba19b",
   "metadata": {},
   "outputs": [
    {
     "data": {
      "text/plain": [
       "'/Users/jasonlee/Desktop/AI_STUDY/PStage/data'"
      ]
     },
     "execution_count": 9,
     "metadata": {},
     "output_type": "execute_result"
    }
   ],
   "source": [
    "os.getcwd()"
   ]
  },
  {
   "cell_type": "code",
   "execution_count": 10,
   "id": "ebe63c7b",
   "metadata": {},
   "outputs": [],
   "source": [
    "DATA_DIR = './train/images'"
   ]
  },
  {
   "cell_type": "markdown",
   "id": "60b0d6e1",
   "metadata": {},
   "source": [
    "> ## Load train.csv"
   ]
  },
  {
   "cell_type": "code",
   "execution_count": 11,
   "id": "b1e5dc18",
   "metadata": {
    "scrolled": false
   },
   "outputs": [
    {
     "data": {
      "text/html": [
       "<div>\n",
       "<style scoped>\n",
       "    .dataframe tbody tr th:only-of-type {\n",
       "        vertical-align: middle;\n",
       "    }\n",
       "\n",
       "    .dataframe tbody tr th {\n",
       "        vertical-align: top;\n",
       "    }\n",
       "\n",
       "    .dataframe thead th {\n",
       "        text-align: right;\n",
       "    }\n",
       "</style>\n",
       "<table border=\"1\" class=\"dataframe\">\n",
       "  <thead>\n",
       "    <tr style=\"text-align: right;\">\n",
       "      <th></th>\n",
       "      <th>id</th>\n",
       "      <th>gender</th>\n",
       "      <th>race</th>\n",
       "      <th>age</th>\n",
       "      <th>path</th>\n",
       "    </tr>\n",
       "  </thead>\n",
       "  <tbody>\n",
       "    <tr>\n",
       "      <th>0</th>\n",
       "      <td>000001</td>\n",
       "      <td>female</td>\n",
       "      <td>Asian</td>\n",
       "      <td>45</td>\n",
       "      <td>000001_female_Asian_45</td>\n",
       "    </tr>\n",
       "    <tr>\n",
       "      <th>1</th>\n",
       "      <td>000002</td>\n",
       "      <td>female</td>\n",
       "      <td>Asian</td>\n",
       "      <td>52</td>\n",
       "      <td>000002_female_Asian_52</td>\n",
       "    </tr>\n",
       "    <tr>\n",
       "      <th>2</th>\n",
       "      <td>000004</td>\n",
       "      <td>male</td>\n",
       "      <td>Asian</td>\n",
       "      <td>54</td>\n",
       "      <td>000004_male_Asian_54</td>\n",
       "    </tr>\n",
       "    <tr>\n",
       "      <th>3</th>\n",
       "      <td>000005</td>\n",
       "      <td>female</td>\n",
       "      <td>Asian</td>\n",
       "      <td>58</td>\n",
       "      <td>000005_female_Asian_58</td>\n",
       "    </tr>\n",
       "    <tr>\n",
       "      <th>4</th>\n",
       "      <td>000006</td>\n",
       "      <td>female</td>\n",
       "      <td>Asian</td>\n",
       "      <td>59</td>\n",
       "      <td>000006_female_Asian_59</td>\n",
       "    </tr>\n",
       "    <tr>\n",
       "      <th>...</th>\n",
       "      <td>...</td>\n",
       "      <td>...</td>\n",
       "      <td>...</td>\n",
       "      <td>...</td>\n",
       "      <td>...</td>\n",
       "    </tr>\n",
       "    <tr>\n",
       "      <th>2695</th>\n",
       "      <td>006954</td>\n",
       "      <td>male</td>\n",
       "      <td>Asian</td>\n",
       "      <td>19</td>\n",
       "      <td>006954_male_Asian_19</td>\n",
       "    </tr>\n",
       "    <tr>\n",
       "      <th>2696</th>\n",
       "      <td>006955</td>\n",
       "      <td>male</td>\n",
       "      <td>Asian</td>\n",
       "      <td>19</td>\n",
       "      <td>006955_male_Asian_19</td>\n",
       "    </tr>\n",
       "    <tr>\n",
       "      <th>2697</th>\n",
       "      <td>006956</td>\n",
       "      <td>male</td>\n",
       "      <td>Asian</td>\n",
       "      <td>19</td>\n",
       "      <td>006956_male_Asian_19</td>\n",
       "    </tr>\n",
       "    <tr>\n",
       "      <th>2698</th>\n",
       "      <td>006957</td>\n",
       "      <td>male</td>\n",
       "      <td>Asian</td>\n",
       "      <td>20</td>\n",
       "      <td>006957_male_Asian_20</td>\n",
       "    </tr>\n",
       "    <tr>\n",
       "      <th>2699</th>\n",
       "      <td>006959</td>\n",
       "      <td>male</td>\n",
       "      <td>Asian</td>\n",
       "      <td>19</td>\n",
       "      <td>006959_male_Asian_19</td>\n",
       "    </tr>\n",
       "  </tbody>\n",
       "</table>\n",
       "<p>2700 rows × 5 columns</p>\n",
       "</div>"
      ],
      "text/plain": [
       "          id  gender   race  age                    path\n",
       "0     000001  female  Asian   45  000001_female_Asian_45\n",
       "1     000002  female  Asian   52  000002_female_Asian_52\n",
       "2     000004    male  Asian   54    000004_male_Asian_54\n",
       "3     000005  female  Asian   58  000005_female_Asian_58\n",
       "4     000006  female  Asian   59  000006_female_Asian_59\n",
       "...      ...     ...    ...  ...                     ...\n",
       "2695  006954    male  Asian   19    006954_male_Asian_19\n",
       "2696  006955    male  Asian   19    006955_male_Asian_19\n",
       "2697  006956    male  Asian   19    006956_male_Asian_19\n",
       "2698  006957    male  Asian   20    006957_male_Asian_20\n",
       "2699  006959    male  Asian   19    006959_male_Asian_19\n",
       "\n",
       "[2700 rows x 5 columns]"
      ]
     },
     "execution_count": 11,
     "metadata": {},
     "output_type": "execute_result"
    }
   ],
   "source": [
    "df = pd.read_csv('./train/train.csv')\n",
    "df"
   ]
  },
  {
   "cell_type": "markdown",
   "id": "7c3b63c6",
   "metadata": {},
   "source": [
    "> ## Functions that convert to numeric category according to the labels"
   ]
  },
  {
   "cell_type": "code",
   "execution_count": 12,
   "id": "5cecaffd",
   "metadata": {},
   "outputs": [],
   "source": [
    "def get_gender(gender):\n",
    "    return 0 if gender=='male' else 1\n",
    "\n",
    "def get_age(age):\n",
    "    label = None\n",
    "    if age < 30:\n",
    "        label = 0\n",
    "    elif age >= 30 and age < 60:\n",
    "        label = 1\n",
    "    else:\n",
    "        label = 2\n",
    "    \n",
    "    return label\n",
    "\n",
    "def get_mask(fname):\n",
    "    label = None\n",
    "    if fname.startswith('mask'):\n",
    "        label = 0\n",
    "    elif fname.startswith('incorrect'):\n",
    "        label = 1\n",
    "    elif fname.startswith('normal'):\n",
    "        label = 2\n",
    "    \n",
    "    return label"
   ]
  },
  {
   "cell_type": "markdown",
   "id": "11a280c4",
   "metadata": {},
   "source": [
    "> ## Combine three labels into one final label (0~17)"
   ]
  },
  {
   "cell_type": "code",
   "execution_count": 13,
   "id": "6f513140",
   "metadata": {},
   "outputs": [],
   "source": [
    "label = 0\n",
    "label_trsfm = {}\n",
    "\n",
    "for m in range(3):\n",
    "    for g in range(2):\n",
    "        for a in range(3):\n",
    "            label_trsfm[':'.join([str(m),str(g),str(a)])] = label\n",
    "            label += 1"
   ]
  },
  {
   "cell_type": "code",
   "execution_count": 14,
   "id": "df832090",
   "metadata": {
    "scrolled": true
   },
   "outputs": [
    {
     "data": {
      "text/plain": [
       "{'0:0:0': 0,\n",
       " '0:0:1': 1,\n",
       " '0:0:2': 2,\n",
       " '0:1:0': 3,\n",
       " '0:1:1': 4,\n",
       " '0:1:2': 5,\n",
       " '1:0:0': 6,\n",
       " '1:0:1': 7,\n",
       " '1:0:2': 8,\n",
       " '1:1:0': 9,\n",
       " '1:1:1': 10,\n",
       " '1:1:2': 11,\n",
       " '2:0:0': 12,\n",
       " '2:0:1': 13,\n",
       " '2:0:2': 14,\n",
       " '2:1:0': 15,\n",
       " '2:1:1': 16,\n",
       " '2:1:2': 17}"
      ]
     },
     "execution_count": 14,
     "metadata": {},
     "output_type": "execute_result"
    }
   ],
   "source": [
    "label_trsfm"
   ]
  },
  {
   "cell_type": "markdown",
   "id": "70e6e00c",
   "metadata": {},
   "source": [
    "> ## Convert to dataframe with appropriate categories\n",
    "* `mask`, `gender`, `age`"
   ]
  },
  {
   "cell_type": "code",
   "execution_count": 15,
   "id": "c58708ab",
   "metadata": {},
   "outputs": [],
   "source": [
    "converted_df = pd.DataFrame(columns=['id','gender','age','mask','path'])"
   ]
  },
  {
   "cell_type": "code",
   "execution_count": 16,
   "id": "11235941",
   "metadata": {
    "scrolled": true
   },
   "outputs": [],
   "source": [
    "cnt = 0\n",
    "\n",
    "for row_idx in range(len(df)):\n",
    "    row = df.iloc[row_idx]\n",
    "    person_dir_full_path = os.path.join(DATA_DIR, row['path'])\n",
    "    person_dir_name = row['path']\n",
    "    person_id = row['id']\n",
    "    person_gender = row['gender']\n",
    "    person_age = row['age']\n",
    "\n",
    "    \n",
    "    for fname in os.listdir(person_dir_full_path):\n",
    "        data_path = os.path.join(person_dir_name, fname)\n",
    "\n",
    "        converted_df.loc[cnt] = [\n",
    "            person_id,\n",
    "            get_gender(person_gender),\n",
    "            get_age(person_age),\n",
    "            get_mask(fname),\n",
    "            data_path\n",
    "        ]\n",
    "        cnt += 1"
   ]
  },
  {
   "cell_type": "code",
   "execution_count": 19,
   "id": "8235093c",
   "metadata": {
    "scrolled": false
   },
   "outputs": [
    {
     "data": {
      "text/html": [
       "<div>\n",
       "<style scoped>\n",
       "    .dataframe tbody tr th:only-of-type {\n",
       "        vertical-align: middle;\n",
       "    }\n",
       "\n",
       "    .dataframe tbody tr th {\n",
       "        vertical-align: top;\n",
       "    }\n",
       "\n",
       "    .dataframe thead th {\n",
       "        text-align: right;\n",
       "    }\n",
       "</style>\n",
       "<table border=\"1\" class=\"dataframe\">\n",
       "  <thead>\n",
       "    <tr style=\"text-align: right;\">\n",
       "      <th></th>\n",
       "      <th>id</th>\n",
       "      <th>gender</th>\n",
       "      <th>age</th>\n",
       "      <th>mask</th>\n",
       "      <th>path</th>\n",
       "    </tr>\n",
       "  </thead>\n",
       "  <tbody>\n",
       "    <tr>\n",
       "      <th>0</th>\n",
       "      <td>000001</td>\n",
       "      <td>1</td>\n",
       "      <td>1</td>\n",
       "      <td>1</td>\n",
       "      <td>000001_female_Asian_45/incorrect_mask.jpg</td>\n",
       "    </tr>\n",
       "    <tr>\n",
       "      <th>1</th>\n",
       "      <td>000001</td>\n",
       "      <td>1</td>\n",
       "      <td>1</td>\n",
       "      <td>0</td>\n",
       "      <td>000001_female_Asian_45/mask4.jpg</td>\n",
       "    </tr>\n",
       "    <tr>\n",
       "      <th>2</th>\n",
       "      <td>000001</td>\n",
       "      <td>1</td>\n",
       "      <td>1</td>\n",
       "      <td>0</td>\n",
       "      <td>000001_female_Asian_45/mask5.jpg</td>\n",
       "    </tr>\n",
       "    <tr>\n",
       "      <th>3</th>\n",
       "      <td>000001</td>\n",
       "      <td>1</td>\n",
       "      <td>1</td>\n",
       "      <td>0</td>\n",
       "      <td>000001_female_Asian_45/mask1.jpg</td>\n",
       "    </tr>\n",
       "    <tr>\n",
       "      <th>4</th>\n",
       "      <td>000001</td>\n",
       "      <td>1</td>\n",
       "      <td>1</td>\n",
       "      <td>2</td>\n",
       "      <td>000001_female_Asian_45/normal.jpg</td>\n",
       "    </tr>\n",
       "    <tr>\n",
       "      <th>...</th>\n",
       "      <td>...</td>\n",
       "      <td>...</td>\n",
       "      <td>...</td>\n",
       "      <td>...</td>\n",
       "      <td>...</td>\n",
       "    </tr>\n",
       "    <tr>\n",
       "      <th>18895</th>\n",
       "      <td>006959</td>\n",
       "      <td>0</td>\n",
       "      <td>0</td>\n",
       "      <td>0</td>\n",
       "      <td>006959_male_Asian_19/mask5.jpg</td>\n",
       "    </tr>\n",
       "    <tr>\n",
       "      <th>18896</th>\n",
       "      <td>006959</td>\n",
       "      <td>0</td>\n",
       "      <td>0</td>\n",
       "      <td>0</td>\n",
       "      <td>006959_male_Asian_19/mask1.jpg</td>\n",
       "    </tr>\n",
       "    <tr>\n",
       "      <th>18897</th>\n",
       "      <td>006959</td>\n",
       "      <td>0</td>\n",
       "      <td>0</td>\n",
       "      <td>2</td>\n",
       "      <td>006959_male_Asian_19/normal.jpg</td>\n",
       "    </tr>\n",
       "    <tr>\n",
       "      <th>18898</th>\n",
       "      <td>006959</td>\n",
       "      <td>0</td>\n",
       "      <td>0</td>\n",
       "      <td>0</td>\n",
       "      <td>006959_male_Asian_19/mask2.jpg</td>\n",
       "    </tr>\n",
       "    <tr>\n",
       "      <th>18899</th>\n",
       "      <td>006959</td>\n",
       "      <td>0</td>\n",
       "      <td>0</td>\n",
       "      <td>0</td>\n",
       "      <td>006959_male_Asian_19/mask3.jpg</td>\n",
       "    </tr>\n",
       "  </tbody>\n",
       "</table>\n",
       "<p>18900 rows × 5 columns</p>\n",
       "</div>"
      ],
      "text/plain": [
       "           id gender age mask                                       path\n",
       "0      000001      1   1    1  000001_female_Asian_45/incorrect_mask.jpg\n",
       "1      000001      1   1    0           000001_female_Asian_45/mask4.jpg\n",
       "2      000001      1   1    0           000001_female_Asian_45/mask5.jpg\n",
       "3      000001      1   1    0           000001_female_Asian_45/mask1.jpg\n",
       "4      000001      1   1    2          000001_female_Asian_45/normal.jpg\n",
       "...       ...    ...  ..  ...                                        ...\n",
       "18895  006959      0   0    0             006959_male_Asian_19/mask5.jpg\n",
       "18896  006959      0   0    0             006959_male_Asian_19/mask1.jpg\n",
       "18897  006959      0   0    2            006959_male_Asian_19/normal.jpg\n",
       "18898  006959      0   0    0             006959_male_Asian_19/mask2.jpg\n",
       "18899  006959      0   0    0             006959_male_Asian_19/mask3.jpg\n",
       "\n",
       "[18900 rows x 5 columns]"
      ]
     },
     "execution_count": 19,
     "metadata": {},
     "output_type": "execute_result"
    }
   ],
   "source": [
    "converted_df"
   ]
  },
  {
   "cell_type": "code",
   "execution_count": 18,
   "id": "a571ea70",
   "metadata": {},
   "outputs": [],
   "source": [
    "converted_df.to_csv('three_labels.csv')"
   ]
  },
  {
   "cell_type": "markdown",
   "id": "0aa6fb86",
   "metadata": {},
   "source": [
    "> ## EDA: Visualizations"
   ]
  },
  {
   "cell_type": "markdown",
   "id": "d80cc1dc",
   "metadata": {},
   "source": [
    "## Gender"
   ]
  },
  {
   "cell_type": "code",
   "execution_count": 151,
   "id": "cef0e3e2",
   "metadata": {
    "scrolled": false
   },
   "outputs": [
    {
     "data": {
      "image/png": "[encoded data removed]",
      "text/plain": [
       "<Figure size 432x288 with 1 Axes>"
      ]
     },
     "metadata": {
      "needs_background": "light"
     },
     "output_type": "display_data"
    }
   ],
   "source": [
    "sns.countplot(data=converted_df, x='gender')\n",
    "plt.xticks([0,1],['male','female'])\n",
    "plt.show()"
   ]
  },
  {
   "cell_type": "markdown",
   "id": "4cd3c517",
   "metadata": {},
   "source": [
    "## Age"
   ]
  },
  {
   "cell_type": "code",
   "execution_count": 152,
   "id": "862e4f81",
   "metadata": {},
   "outputs": [
    {
     "data": {
      "image/png": "[encoded data removed]",
      "text/plain": [
       "<Figure size 432x288 with 1 Axes>"
      ]
     },
     "metadata": {
      "needs_background": "light"
     },
     "output_type": "display_data"
    }
   ],
   "source": [
    "sns.countplot(data=converted_df, x='age')\n",
    "plt.xticks([0,1,2],['<30','>=30 and <60', '>=60'])\n",
    "plt.show()"
   ]
  },
  {
   "cell_type": "markdown",
   "id": "711a6606",
   "metadata": {},
   "source": [
    "## Mask"
   ]
  },
  {
   "cell_type": "code",
   "execution_count": 153,
   "id": "9057e73e",
   "metadata": {
    "scrolled": true
   },
   "outputs": [
    {
     "data": {
      "image/png": "[encoded data removed]",
      "text/plain": [
       "<Figure size 432x288 with 1 Axes>"
      ]
     },
     "metadata": {
      "needs_background": "light"
     },
     "output_type": "display_data"
    }
   ],
   "source": [
    "sns.countplot(data=converted_df, x='mask')\n",
    "plt.xticks([0,1,2],['wear','incorrect','not wear'])\n",
    "plt.show()"
   ]
  },
  {
   "cell_type": "markdown",
   "id": "40024c3c",
   "metadata": {},
   "source": [
    "> ## Convert to Data-Label format dataframe for training"
   ]
  },
  {
   "cell_type": "code",
   "execution_count": 154,
   "id": "7a91303a",
   "metadata": {},
   "outputs": [],
   "source": [
    "label_col = []\n",
    "\n",
    "for row_idx in range(len(converted_df)):\n",
    "    row = new_df.iloc[row_idx]\n",
    "    gender = row['gender']\n",
    "    age = row['age']\n",
    "    mask = row['mask']\n",
    "    \n",
    "    label_col.append(label_trsfm[\":\".join([str(mask),str(gender),str(age)])])\n",
    "    \n",
    "converted_df['label'] = label_col"
   ]
  },
  {
   "cell_type": "code",
   "execution_count": 155,
   "id": "6a548f1b",
   "metadata": {
    "scrolled": true
   },
   "outputs": [
    {
     "data": {
      "text/html": [
       "<div>\n",
       "<style scoped>\n",
       "    .dataframe tbody tr th:only-of-type {\n",
       "        vertical-align: middle;\n",
       "    }\n",
       "\n",
       "    .dataframe tbody tr th {\n",
       "        vertical-align: top;\n",
       "    }\n",
       "\n",
       "    .dataframe thead th {\n",
       "        text-align: right;\n",
       "    }\n",
       "</style>\n",
       "<table border=\"1\" class=\"dataframe\">\n",
       "  <thead>\n",
       "    <tr style=\"text-align: right;\">\n",
       "      <th></th>\n",
       "      <th>path</th>\n",
       "      <th>label</th>\n",
       "    </tr>\n",
       "  </thead>\n",
       "  <tbody>\n",
       "    <tr>\n",
       "      <th>0</th>\n",
       "      <td>000001_female_Asian_45/incorrect_mask.jpg</td>\n",
       "      <td>10</td>\n",
       "    </tr>\n",
       "    <tr>\n",
       "      <th>1</th>\n",
       "      <td>000001_female_Asian_45/mask4.jpg</td>\n",
       "      <td>4</td>\n",
       "    </tr>\n",
       "    <tr>\n",
       "      <th>2</th>\n",
       "      <td>000001_female_Asian_45/mask5.jpg</td>\n",
       "      <td>4</td>\n",
       "    </tr>\n",
       "    <tr>\n",
       "      <th>3</th>\n",
       "      <td>000001_female_Asian_45/mask1.jpg</td>\n",
       "      <td>4</td>\n",
       "    </tr>\n",
       "    <tr>\n",
       "      <th>4</th>\n",
       "      <td>000001_female_Asian_45/normal.jpg</td>\n",
       "      <td>16</td>\n",
       "    </tr>\n",
       "    <tr>\n",
       "      <th>...</th>\n",
       "      <td>...</td>\n",
       "      <td>...</td>\n",
       "    </tr>\n",
       "    <tr>\n",
       "      <th>18895</th>\n",
       "      <td>006959_male_Asian_19/mask5.jpg</td>\n",
       "      <td>0</td>\n",
       "    </tr>\n",
       "    <tr>\n",
       "      <th>18896</th>\n",
       "      <td>006959_male_Asian_19/mask1.jpg</td>\n",
       "      <td>0</td>\n",
       "    </tr>\n",
       "    <tr>\n",
       "      <th>18897</th>\n",
       "      <td>006959_male_Asian_19/normal.jpg</td>\n",
       "      <td>12</td>\n",
       "    </tr>\n",
       "    <tr>\n",
       "      <th>18898</th>\n",
       "      <td>006959_male_Asian_19/mask2.jpg</td>\n",
       "      <td>0</td>\n",
       "    </tr>\n",
       "    <tr>\n",
       "      <th>18899</th>\n",
       "      <td>006959_male_Asian_19/mask3.jpg</td>\n",
       "      <td>0</td>\n",
       "    </tr>\n",
       "  </tbody>\n",
       "</table>\n",
       "<p>18900 rows × 2 columns</p>\n",
       "</div>"
      ],
      "text/plain": [
       "                                            path  label\n",
       "0      000001_female_Asian_45/incorrect_mask.jpg     10\n",
       "1               000001_female_Asian_45/mask4.jpg      4\n",
       "2               000001_female_Asian_45/mask5.jpg      4\n",
       "3               000001_female_Asian_45/mask1.jpg      4\n",
       "4              000001_female_Asian_45/normal.jpg     16\n",
       "...                                          ...    ...\n",
       "18895             006959_male_Asian_19/mask5.jpg      0\n",
       "18896             006959_male_Asian_19/mask1.jpg      0\n",
       "18897            006959_male_Asian_19/normal.jpg     12\n",
       "18898             006959_male_Asian_19/mask2.jpg      0\n",
       "18899             006959_male_Asian_19/mask3.jpg      0\n",
       "\n",
       "[18900 rows x 2 columns]"
      ]
     },
     "execution_count": 155,
     "metadata": {},
     "output_type": "execute_result"
    }
   ],
   "source": [
    "data_label_df = converted_df.drop(['gender','age','mask','id'], axis=1)\n",
    "data_label_df"
   ]
  },
  {
   "cell_type": "code",
   "execution_count": 158,
   "id": "9cabddcb",
   "metadata": {},
   "outputs": [
    {
     "data": {
      "image/png": "[encoded data removed]",
      "text/plain": [
       "<Figure size 432x288 with 1 Axes>"
      ]
     },
     "metadata": {
      "needs_background": "light"
     },
     "output_type": "display_data"
    }
   ],
   "source": [
    "sns.countplot(data=data_label_df, x='label')\n",
    "plt.show()"
   ]
  },
  {
   "cell_type": "markdown",
   "id": "fe976399",
   "metadata": {},
   "source": [
    "> ## Save final dataframe to .csv file"
   ]
  },
  {
   "cell_type": "code",
   "execution_count": 156,
   "id": "b6cc5868",
   "metadata": {},
   "outputs": [],
   "source": [
    "data_label_df.to_csv('train_data_label.csv')"
   ]
  }
 ],
 "metadata": {
  "kernelspec": {
   "display_name": "Python 3",
   "language": "python",
   "name": "python3"
  },
  "language_info": {
   "codemirror_mode": {
    "name": "ipython",
    "version": 3
   },
   "file_extension": ".py",
   "mimetype": "text/x-python",
   "name": "python",
   "nbconvert_exporter": "python",
   "pygments_lexer": "ipython3",
   "version": "3.8.8"
  }
 },
 "nbformat": 4,
 "nbformat_minor": 5
}
