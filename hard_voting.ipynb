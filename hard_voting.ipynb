{
 "cells": [
  {
   "cell_type": "code",
   "execution_count": 181,
   "id": "96d7646a",
   "metadata": {},
   "outputs": [],
   "source": [
    "import pandas as pd\n",
    "from pathlib import Path\n",
    "import os\n",
    "from statistics import mode\n",
    "import numpy as np"
   ]
  },
  {
   "cell_type": "markdown",
   "id": "f7fa706a",
   "metadata": {},
   "source": [
    "## Decompose: final label -> individual"
   ]
  },
  {
   "cell_type": "code",
   "execution_count": 182,
   "id": "a8fa185d",
   "metadata": {},
   "outputs": [],
   "source": [
    "all_decompose = {}\n",
    "label = 0\n",
    "\n",
    "# All combined\n",
    "for m in range(3):\n",
    "    for g in range(2):\n",
    "        for a in range(3):\n",
    "            all_decompose[label] = ':'.join([str(m),str(g),str(a)])\n",
    "            label += 1\n",
    "            \n",
    "# mask & gender\n",
    "\n",
    "mask_gender_decompose = {}\n",
    "label = 0\n",
    "\n",
    "for m in range(3):\n",
    "    for g in range(2):\n",
    "            mask_gender_decompose[label] = ':'.join([str(m),str(g)])\n",
    "            label += 1\n",
    "\n",
    "# Age \n",
    "age_decompose = {\n",
    "    0: 0,\n",
    "    1: 0,\n",
    "    2: 1,\n",
    "    3: 1,\n",
    "    4: 1,\n",
    "    5: 2\n",
    "}"
   ]
  },
  {
   "cell_type": "markdown",
   "id": "a50342be",
   "metadata": {},
   "source": [
    "## individual -> final label"
   ]
  },
  {
   "cell_type": "code",
   "execution_count": 183,
   "id": "1a58329e",
   "metadata": {},
   "outputs": [],
   "source": [
    "# All combined (mask, gender, age)\n",
    "label = 0\n",
    "label_trsfm = {}\n",
    "\n",
    "for m in range(3):\n",
    "    for g in range(2):\n",
    "        for a in range(3):\n",
    "            label_trsfm[':'.join([str(m),str(g),str(a)])] = label\n",
    "            label += 1"
   ]
  },
  {
   "cell_type": "markdown",
   "id": "ca8656aa",
   "metadata": {},
   "source": [
    "## csv directory"
   ]
  },
  {
   "cell_type": "code",
   "execution_count": 184,
   "id": "942002d1",
   "metadata": {},
   "outputs": [],
   "source": [
    "all_csv_dir = Path('./out/all_hardvoting')\n",
    "mask_gender_csv_dir = Path('./out/mask_gender_hardvoting')\n",
    "age_csv_dir = Path('./out/age_hardvoting')"
   ]
  },
  {
   "cell_type": "code",
   "execution_count": 185,
   "id": "f98e7564",
   "metadata": {
    "scrolled": true
   },
   "outputs": [],
   "source": [
    "all_csv_names = os.listdir(all_csv_dir)\n",
    "mask_gender_csv_names = os.listdir(mask_gender_csv_dir)\n",
    "age_csv_names = os.listdir(age_csv_dir)"
   ]
  },
  {
   "cell_type": "code",
   "execution_count": 186,
   "id": "92bda76b",
   "metadata": {},
   "outputs": [],
   "source": [
    "all_df_list = []\n",
    "mask_gender_df_list = []\n",
    "age_df_list = []"
   ]
  },
  {
   "cell_type": "code",
   "execution_count": 187,
   "id": "67eb92fd",
   "metadata": {},
   "outputs": [],
   "source": [
    "DH_age_csv = pd.read_csv('./out/DH_age.csv')"
   ]
  },
  {
   "cell_type": "code",
   "execution_count": 188,
   "id": "f7a7a951",
   "metadata": {
    "scrolled": true
   },
   "outputs": [],
   "source": [
    "for csv in all_csv_names:\n",
    "    if not csv.endswith('.csv'):\n",
    "        continue\n",
    "    all_df_list.append(pd.read_csv(all_csv_dir / csv))\n",
    "    \n",
    "for csv in mask_gender_csv_names:\n",
    "    if not csv.endswith('.csv'):\n",
    "        continue\n",
    "    mask_gender_df_list.append(pd.read_csv(mask_gender_csv_dir / csv))\n",
    "    \n",
    "for csv in age_csv_names:\n",
    "    if not csv.endswith('.csv'):\n",
    "        continue\n",
    "    age_df_list.append(pd.read_csv(age_csv_dir / csv))"
   ]
  },
  {
   "cell_type": "code",
   "execution_count": 189,
   "id": "19f55211",
   "metadata": {
    "scrolled": true
   },
   "outputs": [],
   "source": [
    "final_label = []\n",
    "for idx in range(12600):\n",
    "    freq = {\n",
    "        'mask': [],\n",
    "        'gender': [],\n",
    "        'age': []\n",
    "    }\n",
    "    \n",
    "    # For All (mask, gender, age)\n",
    "    for df_idx in range(len(all_df_list)):\n",
    "        combined_label = all_df_list[df_idx].loc[idx, 'ans']\n",
    "        mask, gender, age = all_decompose[combined_label].split(':')\n",
    "        freq['mask'].append(mask)\n",
    "        freq['gender'].append(gender)\n",
    "        freq['age'].append(age)\n",
    "    \n",
    "    # For Mask & Gender\n",
    "    for df_idx in range(len(mask_gender_df_list)):\n",
    "        combined_label = mask_gender_df_list[df_idx].loc[idx, 'ans']\n",
    "        mask, gender = mask_gender_decompose[combined_label].split(':')\n",
    "        freq['mask'].append(mask)\n",
    "        freq['gender'].append(gender)\n",
    "        \n",
    "    # For Age\n",
    "    for df_idx in range(len(age_df_list)):\n",
    "        age6 = age_df_list[df_idx].loc[idx, 'ans']\n",
    "        age3 = age_decompose[age6]\n",
    "        freq['age'].append(age3)\n",
    "        \n",
    "    # DH age\n",
    "    freq['age'].append(DH_age_csv.loc[idx, 'ans'])\n",
    "    \n",
    "    mask_mode = mode(freq['mask'])\n",
    "    gender_mode = mode(freq['gender'])\n",
    "    age_mode = mode(freq['age'])\n",
    "    final_label.append(label_trsfm[\":\".join([mask_mode, gender_mode, age_mode])])\n",
    "    \n",
    "    # Print final lable for current image\n",
    "    # print(\"Final label: {}\".format(label_trsfm[\":\".join([mask_mode, gender_mode, age_mode])]))"
   ]
  },
  {
   "cell_type": "code",
   "execution_count": 193,
   "id": "1a2bf0f9",
   "metadata": {},
   "outputs": [],
   "source": [
    "submitted_csv = pd.read_csv('submitted.csv')"
   ]
  },
  {
   "cell_type": "code",
   "execution_count": 198,
   "id": "23f0095c",
   "metadata": {},
   "outputs": [
    {
     "data": {
      "text/plain": [
       "0"
      ]
     },
     "execution_count": 198,
     "metadata": {},
     "output_type": "execute_result"
    }
   ],
   "source": [
    "sum(np.array(list(submitted_csv['ans'])) != np.array(final_label))"
   ]
  },
  {
   "cell_type": "code",
   "execution_count": null,
   "id": "2f2bc8c3",
   "metadata": {},
   "outputs": [],
   "source": []
  }
 ],
 "metadata": {
  "kernelspec": {
   "display_name": "Python 3",
   "language": "python",
   "name": "python3"
  },
  "language_info": {
   "codemirror_mode": {
    "name": "ipython",
    "version": 3
   },
   "file_extension": ".py",
   "mimetype": "text/x-python",
   "name": "python",
   "nbconvert_exporter": "python",
   "pygments_lexer": "ipython3",
   "version": "3.8.8"
  }
 },
 "nbformat": 4,
 "nbformat_minor": 5
}
