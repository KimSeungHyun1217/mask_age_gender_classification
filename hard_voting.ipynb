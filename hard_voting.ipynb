{
 "cells": [
  {
   "cell_type": "code",
   "execution_count": 235,
   "id": "96d7646a",
   "metadata": {},
   "outputs": [],
   "source": [
    "import pandas as pd\n",
    "from pathlib import Path\n",
    "import os\n",
    "from statistics import mode\n",
    "import numpy as np"
   ]
  },
  {
   "cell_type": "markdown",
   "id": "41ae7bcd",
   "metadata": {},
   "source": [
    "## Decompose: final label -> individual"
   ]
  },
  {
   "cell_type": "code",
   "execution_count": 256,
   "id": "6a24ee07",
   "metadata": {},
   "outputs": [],
   "source": [
    "all_decompose = {}\n",
    "label = 0\n",
    "\n",
    "# All combined\n",
    "for m in range(3):\n",
    "    for g in range(2):\n",
    "        for a in range(3):\n",
    "            all_decompose[label] = ':'.join([str(m),str(g),str(a)])\n",
    "            label += 1\n",
    "            \n",
    "# mask & gender\n",
    "\n",
    "mask_gender_decompose = {}\n",
    "label = 0\n",
    "\n",
    "for m in range(3):\n",
    "    for g in range(2):\n",
    "            mask_gender_decompose[label] = ':'.join([str(m),str(g)])\n",
    "            label += 1\n",
    "\n",
    "# Age \n",
    "age_decompose = {\n",
    "    0: 0,\n",
    "    1: 0,\n",
    "    2: 1,\n",
    "    3: 1,\n",
    "    4: 1,\n",
    "    5: 2\n",
    "}"
   ]
  },
  {
   "cell_type": "markdown",
   "id": "6c7e8adc",
   "metadata": {},
   "source": [
    "## individual -> final label"
   ]
  },
  {
   "cell_type": "code",
   "execution_count": 257,
   "id": "bb2e9565",
   "metadata": {},
   "outputs": [],
   "source": [
    "# All combined (mask, gender, age)\n",
    "label = 0\n",
    "label_trsfm = {}\n",
    "\n",
    "for m in range(3):\n",
    "    for g in range(2):\n",
    "        for a in range(3):\n",
    "            label_trsfm[':'.join([str(m),str(g),str(a)])] = label\n",
    "            label += 1"
   ]
  },
  {
   "cell_type": "markdown",
   "id": "1822092e",
   "metadata": {},
   "source": [
    "## csv directory"
   ]
  },
  {
   "cell_type": "code",
   "execution_count": 258,
   "id": "942002d1",
   "metadata": {},
   "outputs": [],
   "source": [
    "all_csv_dir = Path('./out/all_hardvoting')\n",
    "mask_gender_csv_dir = Path('./out/mask_gender_hardvoting')\n",
    "age_csv_dir = Path('./out/age_hardvoting')"
   ]
  },
  {
   "cell_type": "code",
   "execution_count": 259,
   "id": "f98e7564",
   "metadata": {
    "scrolled": true
   },
   "outputs": [],
   "source": [
    "all_csv_names = os.listdir(all_csv_dir)\n",
    "mask_gender_csv_names = os.listdir(mask_gender_csv_dir)\n",
    "age_csv_names = os.listdir(age_csv_dir)"
   ]
  },
  {
   "cell_type": "code",
   "execution_count": 260,
   "id": "08233ad4",
   "metadata": {},
   "outputs": [
    {
     "data": {
      "text/plain": [
       "['resnet_dropout_0.7_2.csv',\n",
       " 'CJ_submission_74_4.csv',\n",
       " 'efficientnet.csv',\n",
       " 'efficientnetb2_b2.csv',\n",
       " '.ipynb_checkpoints',\n",
       " 'RES18_SEG_CROP(DH).csv',\n",
       " 'densenet.csv']"
      ]
     },
     "execution_count": 260,
     "metadata": {},
     "output_type": "execute_result"
    }
   ],
   "source": [
    "all_csv_names"
   ]
  },
  {
   "cell_type": "code",
   "execution_count": 261,
   "id": "90f53204",
   "metadata": {},
   "outputs": [],
   "source": [
    "all_df_list = []\n",
    "mask_gender_df_list = []\n",
    "age_df_list = []"
   ]
  },
  {
   "cell_type": "code",
   "execution_count": 262,
   "id": "f3ebdcdb",
   "metadata": {},
   "outputs": [],
   "source": [
    "DH_age_csv = pd.read_csv('./out/DH_age.csv')"
   ]
  },
  {
   "cell_type": "code",
   "execution_count": 263,
   "id": "17836e4c",
   "metadata": {
    "scrolled": true
   },
   "outputs": [],
   "source": [
    "for csv in all_csv_names:\n",
    "    if not csv.endswith('.csv'):\n",
    "        continue\n",
    "    all_df_list.append(pd.read_csv(all_csv_dir / csv))\n",
    "    \n",
    "for csv in mask_gender_csv_names:\n",
    "    if not csv.endswith('.csv'):\n",
    "        continue\n",
    "    mask_gender_df_list.append(pd.read_csv(mask_gender_csv_dir / csv))\n",
    "    \n",
    "for csv in age_csv_names:\n",
    "    if not csv.endswith('.csv'):\n",
    "        continue\n",
    "    age_df_list.append(pd.read_csv(age_csv_dir / csv))"
   ]
  },
  {
   "cell_type": "code",
   "execution_count": 297,
   "id": "17a5f5db",
   "metadata": {},
   "outputs": [],
   "source": [
    "submitted_csv = pd.read_csv('hard_voting_submission1.csv')"
   ]
  },
  {
   "cell_type": "code",
   "execution_count": 298,
   "id": "010ad675",
   "metadata": {
    "scrolled": true
   },
   "outputs": [
    {
     "data": {
      "text/html": [
       "<div>\n",
       "<style scoped>\n",
       "    .dataframe tbody tr th:only-of-type {\n",
       "        vertical-align: middle;\n",
       "    }\n",
       "\n",
       "    .dataframe tbody tr th {\n",
       "        vertical-align: top;\n",
       "    }\n",
       "\n",
       "    .dataframe thead th {\n",
       "        text-align: right;\n",
       "    }\n",
       "</style>\n",
       "<table border=\"1\" class=\"dataframe\">\n",
       "  <thead>\n",
       "    <tr style=\"text-align: right;\">\n",
       "      <th></th>\n",
       "      <th>Unnamed: 0</th>\n",
       "      <th>ImageID</th>\n",
       "      <th>ans</th>\n",
       "    </tr>\n",
       "  </thead>\n",
       "  <tbody>\n",
       "    <tr>\n",
       "      <th>0</th>\n",
       "      <td>0</td>\n",
       "      <td>cbc5c6e168e63498590db46022617123f1fe1268.jpg</td>\n",
       "      <td>13</td>\n",
       "    </tr>\n",
       "    <tr>\n",
       "      <th>1</th>\n",
       "      <td>1</td>\n",
       "      <td>0e72482bf56b3581c081f7da2a6180b8792c7089.jpg</td>\n",
       "      <td>1</td>\n",
       "    </tr>\n",
       "    <tr>\n",
       "      <th>2</th>\n",
       "      <td>2</td>\n",
       "      <td>b549040c49190cedc41327748aeb197c1670f14d.jpg</td>\n",
       "      <td>13</td>\n",
       "    </tr>\n",
       "    <tr>\n",
       "      <th>3</th>\n",
       "      <td>3</td>\n",
       "      <td>4f9cb2a045c6d5b9e50ad3459ea7b791eb6e18bc.jpg</td>\n",
       "      <td>13</td>\n",
       "    </tr>\n",
       "    <tr>\n",
       "      <th>4</th>\n",
       "      <td>4</td>\n",
       "      <td>248428d9a4a5b6229a7081c32851b90cb8d38d0c.jpg</td>\n",
       "      <td>12</td>\n",
       "    </tr>\n",
       "    <tr>\n",
       "      <th>...</th>\n",
       "      <td>...</td>\n",
       "      <td>...</td>\n",
       "      <td>...</td>\n",
       "    </tr>\n",
       "    <tr>\n",
       "      <th>12595</th>\n",
       "      <td>12595</td>\n",
       "      <td>d71d4570505d6af8f777690e63edfa8d85ea4476.jpg</td>\n",
       "      <td>1</td>\n",
       "    </tr>\n",
       "    <tr>\n",
       "      <th>12596</th>\n",
       "      <td>12596</td>\n",
       "      <td>6cf1300e8e218716728d5820c0bab553306c2cfd.jpg</td>\n",
       "      <td>4</td>\n",
       "    </tr>\n",
       "    <tr>\n",
       "      <th>12597</th>\n",
       "      <td>12597</td>\n",
       "      <td>8140edbba31c3a824e817e6d5fb95343199e2387.jpg</td>\n",
       "      <td>9</td>\n",
       "    </tr>\n",
       "    <tr>\n",
       "      <th>12598</th>\n",
       "      <td>12598</td>\n",
       "      <td>030d439efe6fb5a7bafda45a393fc19f2bf57f54.jpg</td>\n",
       "      <td>1</td>\n",
       "    </tr>\n",
       "    <tr>\n",
       "      <th>12599</th>\n",
       "      <td>12599</td>\n",
       "      <td>f1e0b9594ae9f72571f0a9dc67406ad41f2edab0.jpg</td>\n",
       "      <td>7</td>\n",
       "    </tr>\n",
       "  </tbody>\n",
       "</table>\n",
       "<p>12600 rows × 3 columns</p>\n",
       "</div>"
      ],
      "text/plain": [
       "       Unnamed: 0                                       ImageID  ans\n",
       "0               0  cbc5c6e168e63498590db46022617123f1fe1268.jpg   13\n",
       "1               1  0e72482bf56b3581c081f7da2a6180b8792c7089.jpg    1\n",
       "2               2  b549040c49190cedc41327748aeb197c1670f14d.jpg   13\n",
       "3               3  4f9cb2a045c6d5b9e50ad3459ea7b791eb6e18bc.jpg   13\n",
       "4               4  248428d9a4a5b6229a7081c32851b90cb8d38d0c.jpg   12\n",
       "...           ...                                           ...  ...\n",
       "12595       12595  d71d4570505d6af8f777690e63edfa8d85ea4476.jpg    1\n",
       "12596       12596  6cf1300e8e218716728d5820c0bab553306c2cfd.jpg    4\n",
       "12597       12597  8140edbba31c3a824e817e6d5fb95343199e2387.jpg    9\n",
       "12598       12598  030d439efe6fb5a7bafda45a393fc19f2bf57f54.jpg    1\n",
       "12599       12599  f1e0b9594ae9f72571f0a9dc67406ad41f2edab0.jpg    7\n",
       "\n",
       "[12600 rows x 3 columns]"
      ]
     },
     "execution_count": 298,
     "metadata": {},
     "output_type": "execute_result"
    }
   ],
   "source": [
    "submitted_csv"
   ]
  },
  {
   "cell_type": "code",
   "execution_count": 378,
   "id": "20f141c0",
   "metadata": {
    "scrolled": true
   },
   "outputs": [],
   "source": [
    "final_label = []\n",
    "for idx in range(12600):\n",
    "    freq = {\n",
    "        'mask': [],\n",
    "        'gender': [],\n",
    "        'age': []\n",
    "    }\n",
    "    \n",
    "    # For All (mask, gender, age)\n",
    "    for df_idx in range(len(all_df_list)):\n",
    "        combined_label = all_df_list[df_idx].loc[idx, 'ans']\n",
    "        mask, gender, age = all_decompose[combined_label].split(':')\n",
    "        freq['mask'].append(int(mask))\n",
    "        freq['gender'].append(int(gender))\n",
    "        freq['age'].append(int(age))\n",
    "    \n",
    "    # For Mask & Gender\n",
    "    for df_idx in range(len(mask_gender_df_list)):\n",
    "        combined_label = mask_gender_df_list[df_idx].loc[idx, 'ans']\n",
    "        mask, gender = mask_gender_decompose[combined_label].split(':')\n",
    "        freq['mask'].append(int(mask))\n",
    "        freq['gender'].append(int(gender))\n",
    "        \n",
    "#     For Age\n",
    "    for df_idx in range(len(age_df_list)):\n",
    "        age6 = age_df_list[df_idx].loc[idx, 'age']\n",
    "        age3 = age_decompose[age6]\n",
    "#         freq['age'].append(int(age3))\n",
    "\n",
    "#     print(\"submitted:\",all_decompose[submitted_csv.loc[idx, 'ans']].split(':')[2])\n",
    "#     freq['age'].append(int(all_decompose[submitted_csv.loc[idx, 'ans']].split(':')[2]))\n",
    "    # DH age\n",
    "    freq['age'].append(int(DH_age_csv.loc[idx, 'ans']))\n",
    "#     print(\"DH:\",DH_age_csv.loc[idx, 'ans'])\n",
    "    \n",
    "    \n",
    "    mask_mode = str(mode(freq['mask']))\n",
    "    gender_mode = str(mode(freq['gender']))\n",
    "    age_mode = str(mode(freq['age']))\n",
    "    final_label.append(label_trsfm[\":\".join([mask_mode, gender_mode, age_mode])])\n",
    "    \n",
    "    # Print final lable for current image\n",
    "    # print(\"Final label: {}\".format(label_trsfm[\":\".join([mask_mode, gender_mode, age_mode])]))"
   ]
  },
  {
   "cell_type": "code",
   "execution_count": 379,
   "id": "38be5353",
   "metadata": {},
   "outputs": [
    {
     "data": {
      "text/plain": [
       "542"
      ]
     },
     "execution_count": 379,
     "metadata": {},
     "output_type": "execute_result"
    }
   ],
   "source": [
    "sum(np.array(final_ans) != np.array(final_label))"
   ]
  },
  {
   "cell_type": "code",
   "execution_count": 352,
   "id": "0a7fe8a2",
   "metadata": {},
   "outputs": [
    {
     "data": {
      "text/plain": [
       "521"
      ]
     },
     "execution_count": 352,
     "metadata": {},
     "output_type": "execute_result"
    }
   ],
   "source": [
    "np.sum(np.array(list(submitted_csv['ans'])) != np.array(final_label))"
   ]
  },
  {
   "cell_type": "code",
   "execution_count": 371,
   "id": "e0c4860c",
   "metadata": {},
   "outputs": [],
   "source": [
    "df1['ans'] = final_label"
   ]
  },
  {
   "cell_type": "code",
   "execution_count": 361,
   "id": "91349f1f",
   "metadata": {},
   "outputs": [],
   "source": [
    "df1.to_csv('hard_voting_submission6.csv')"
   ]
  },
  {
   "cell_type": "code",
   "execution_count": 372,
   "id": "b262febf",
   "metadata": {},
   "outputs": [
    {
     "data": {
      "text/html": [
       "<div>\n",
       "<style scoped>\n",
       "    .dataframe tbody tr th:only-of-type {\n",
       "        vertical-align: middle;\n",
       "    }\n",
       "\n",
       "    .dataframe tbody tr th {\n",
       "        vertical-align: top;\n",
       "    }\n",
       "\n",
       "    .dataframe thead th {\n",
       "        text-align: right;\n",
       "    }\n",
       "</style>\n",
       "<table border=\"1\" class=\"dataframe\">\n",
       "  <thead>\n",
       "    <tr style=\"text-align: right;\">\n",
       "      <th></th>\n",
       "      <th>ImageID</th>\n",
       "      <th>ans</th>\n",
       "    </tr>\n",
       "  </thead>\n",
       "  <tbody>\n",
       "    <tr>\n",
       "      <th>0</th>\n",
       "      <td>cbc5c6e168e63498590db46022617123f1fe1268.jpg</td>\n",
       "      <td>13</td>\n",
       "    </tr>\n",
       "    <tr>\n",
       "      <th>1</th>\n",
       "      <td>0e72482bf56b3581c081f7da2a6180b8792c7089.jpg</td>\n",
       "      <td>1</td>\n",
       "    </tr>\n",
       "    <tr>\n",
       "      <th>2</th>\n",
       "      <td>b549040c49190cedc41327748aeb197c1670f14d.jpg</td>\n",
       "      <td>13</td>\n",
       "    </tr>\n",
       "    <tr>\n",
       "      <th>3</th>\n",
       "      <td>4f9cb2a045c6d5b9e50ad3459ea7b791eb6e18bc.jpg</td>\n",
       "      <td>13</td>\n",
       "    </tr>\n",
       "    <tr>\n",
       "      <th>4</th>\n",
       "      <td>248428d9a4a5b6229a7081c32851b90cb8d38d0c.jpg</td>\n",
       "      <td>12</td>\n",
       "    </tr>\n",
       "    <tr>\n",
       "      <th>...</th>\n",
       "      <td>...</td>\n",
       "      <td>...</td>\n",
       "    </tr>\n",
       "    <tr>\n",
       "      <th>12595</th>\n",
       "      <td>d71d4570505d6af8f777690e63edfa8d85ea4476.jpg</td>\n",
       "      <td>1</td>\n",
       "    </tr>\n",
       "    <tr>\n",
       "      <th>12596</th>\n",
       "      <td>6cf1300e8e218716728d5820c0bab553306c2cfd.jpg</td>\n",
       "      <td>4</td>\n",
       "    </tr>\n",
       "    <tr>\n",
       "      <th>12597</th>\n",
       "      <td>8140edbba31c3a824e817e6d5fb95343199e2387.jpg</td>\n",
       "      <td>9</td>\n",
       "    </tr>\n",
       "    <tr>\n",
       "      <th>12598</th>\n",
       "      <td>030d439efe6fb5a7bafda45a393fc19f2bf57f54.jpg</td>\n",
       "      <td>1</td>\n",
       "    </tr>\n",
       "    <tr>\n",
       "      <th>12599</th>\n",
       "      <td>f1e0b9594ae9f72571f0a9dc67406ad41f2edab0.jpg</td>\n",
       "      <td>7</td>\n",
       "    </tr>\n",
       "  </tbody>\n",
       "</table>\n",
       "<p>12600 rows × 2 columns</p>\n",
       "</div>"
      ],
      "text/plain": [
       "                                            ImageID  ans\n",
       "0      cbc5c6e168e63498590db46022617123f1fe1268.jpg   13\n",
       "1      0e72482bf56b3581c081f7da2a6180b8792c7089.jpg    1\n",
       "2      b549040c49190cedc41327748aeb197c1670f14d.jpg   13\n",
       "3      4f9cb2a045c6d5b9e50ad3459ea7b791eb6e18bc.jpg   13\n",
       "4      248428d9a4a5b6229a7081c32851b90cb8d38d0c.jpg   12\n",
       "...                                             ...  ...\n",
       "12595  d71d4570505d6af8f777690e63edfa8d85ea4476.jpg    1\n",
       "12596  6cf1300e8e218716728d5820c0bab553306c2cfd.jpg    4\n",
       "12597  8140edbba31c3a824e817e6d5fb95343199e2387.jpg    9\n",
       "12598  030d439efe6fb5a7bafda45a393fc19f2bf57f54.jpg    1\n",
       "12599  f1e0b9594ae9f72571f0a9dc67406ad41f2edab0.jpg    7\n",
       "\n",
       "[12600 rows x 2 columns]"
      ]
     },
     "execution_count": 372,
     "metadata": {},
     "output_type": "execute_result"
    }
   ],
   "source": [
    "df1"
   ]
  },
  {
   "cell_type": "code",
   "execution_count": 377,
   "id": "d58d06b8",
   "metadata": {},
   "outputs": [],
   "source": [
    "df1.to_csv('hard_voting_submission7.csv')"
   ]
  },
  {
   "cell_type": "code",
   "execution_count": 375,
   "id": "7f9f9ae0",
   "metadata": {},
   "outputs": [
    {
     "data": {
      "text/plain": [
       "521"
      ]
     },
     "execution_count": 375,
     "metadata": {},
     "output_type": "execute_result"
    }
   ],
   "source": [
    "sum(np.array(df1['ans']) != np.array(final_ans))"
   ]
  },
  {
   "cell_type": "code",
   "execution_count": 376,
   "id": "bc517e04",
   "metadata": {},
   "outputs": [
    {
     "data": {
      "text/html": [
       "<div>\n",
       "<style scoped>\n",
       "    .dataframe tbody tr th:only-of-type {\n",
       "        vertical-align: middle;\n",
       "    }\n",
       "\n",
       "    .dataframe tbody tr th {\n",
       "        vertical-align: top;\n",
       "    }\n",
       "\n",
       "    .dataframe thead th {\n",
       "        text-align: right;\n",
       "    }\n",
       "</style>\n",
       "<table border=\"1\" class=\"dataframe\">\n",
       "  <thead>\n",
       "    <tr style=\"text-align: right;\">\n",
       "      <th></th>\n",
       "      <th>ImageID</th>\n",
       "      <th>ans</th>\n",
       "    </tr>\n",
       "  </thead>\n",
       "  <tbody>\n",
       "    <tr>\n",
       "      <th>0</th>\n",
       "      <td>cbc5c6e168e63498590db46022617123f1fe1268.jpg</td>\n",
       "      <td>13</td>\n",
       "    </tr>\n",
       "    <tr>\n",
       "      <th>1</th>\n",
       "      <td>0e72482bf56b3581c081f7da2a6180b8792c7089.jpg</td>\n",
       "      <td>1</td>\n",
       "    </tr>\n",
       "    <tr>\n",
       "      <th>2</th>\n",
       "      <td>b549040c49190cedc41327748aeb197c1670f14d.jpg</td>\n",
       "      <td>13</td>\n",
       "    </tr>\n",
       "    <tr>\n",
       "      <th>3</th>\n",
       "      <td>4f9cb2a045c6d5b9e50ad3459ea7b791eb6e18bc.jpg</td>\n",
       "      <td>13</td>\n",
       "    </tr>\n",
       "    <tr>\n",
       "      <th>4</th>\n",
       "      <td>248428d9a4a5b6229a7081c32851b90cb8d38d0c.jpg</td>\n",
       "      <td>12</td>\n",
       "    </tr>\n",
       "    <tr>\n",
       "      <th>...</th>\n",
       "      <td>...</td>\n",
       "      <td>...</td>\n",
       "    </tr>\n",
       "    <tr>\n",
       "      <th>12595</th>\n",
       "      <td>d71d4570505d6af8f777690e63edfa8d85ea4476.jpg</td>\n",
       "      <td>1</td>\n",
       "    </tr>\n",
       "    <tr>\n",
       "      <th>12596</th>\n",
       "      <td>6cf1300e8e218716728d5820c0bab553306c2cfd.jpg</td>\n",
       "      <td>4</td>\n",
       "    </tr>\n",
       "    <tr>\n",
       "      <th>12597</th>\n",
       "      <td>8140edbba31c3a824e817e6d5fb95343199e2387.jpg</td>\n",
       "      <td>9</td>\n",
       "    </tr>\n",
       "    <tr>\n",
       "      <th>12598</th>\n",
       "      <td>030d439efe6fb5a7bafda45a393fc19f2bf57f54.jpg</td>\n",
       "      <td>1</td>\n",
       "    </tr>\n",
       "    <tr>\n",
       "      <th>12599</th>\n",
       "      <td>f1e0b9594ae9f72571f0a9dc67406ad41f2edab0.jpg</td>\n",
       "      <td>7</td>\n",
       "    </tr>\n",
       "  </tbody>\n",
       "</table>\n",
       "<p>12600 rows × 2 columns</p>\n",
       "</div>"
      ],
      "text/plain": [
       "                                            ImageID  ans\n",
       "0      cbc5c6e168e63498590db46022617123f1fe1268.jpg   13\n",
       "1      0e72482bf56b3581c081f7da2a6180b8792c7089.jpg    1\n",
       "2      b549040c49190cedc41327748aeb197c1670f14d.jpg   13\n",
       "3      4f9cb2a045c6d5b9e50ad3459ea7b791eb6e18bc.jpg   13\n",
       "4      248428d9a4a5b6229a7081c32851b90cb8d38d0c.jpg   12\n",
       "...                                             ...  ...\n",
       "12595  d71d4570505d6af8f777690e63edfa8d85ea4476.jpg    1\n",
       "12596  6cf1300e8e218716728d5820c0bab553306c2cfd.jpg    4\n",
       "12597  8140edbba31c3a824e817e6d5fb95343199e2387.jpg    9\n",
       "12598  030d439efe6fb5a7bafda45a393fc19f2bf57f54.jpg    1\n",
       "12599  f1e0b9594ae9f72571f0a9dc67406ad41f2edab0.jpg    7\n",
       "\n",
       "[12600 rows x 2 columns]"
      ]
     },
     "execution_count": 376,
     "metadata": {},
     "output_type": "execute_result"
    }
   ],
   "source": [
    "df1"
   ]
  },
  {
   "cell_type": "code",
   "execution_count": null,
   "id": "b1684010",
   "metadata": {},
   "outputs": [],
   "source": []
  }
 ],
 "metadata": {
  "kernelspec": {
   "display_name": "Python 3",
   "language": "python",
   "name": "python3"
  },
  "language_info": {
   "codemirror_mode": {
    "name": "ipython",
    "version": 3
   },
   "file_extension": ".py",
   "mimetype": "text/x-python",
   "name": "python",
   "nbconvert_exporter": "python",
   "pygments_lexer": "ipython3",
   "version": "3.8.8"
  }
 },
 "nbformat": 4,
 "nbformat_minor": 5
}
